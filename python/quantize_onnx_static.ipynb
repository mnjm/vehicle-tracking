{
 "cells": [
  {
   "cell_type": "code",
   "execution_count": 1,
   "metadata": {},
   "outputs": [
    {
     "name": "stdout",
     "output_type": "stream",
     "text": [
      "Warning: onnxruntime_tools is deprecated. Use onnxruntime or onnxruntime-gpu instead. For more information, see https://github.com/microsoft/onnxruntime/blob/master/onnxruntime/python/tools/transformers/README.md.\n",
      "\n"
     ]
    }
   ],
   "source": [
    "import onnxruntime as ort\n",
    "from onnxruntime_tools.quantization import quantize_static, QuantType\n",
    "import cv2\n",
    "import numpy as np\n",
    "from pathlib import Path\n"
   ]
  },
  {
   "cell_type": "code",
   "execution_count": 2,
   "metadata": {},
   "outputs": [],
   "source": [
    "input_name = \"images\"\n",
    "class VideoDataLoader:\n",
    "    \n",
    "    def __init__(self, video_path):\n",
    "        self.video_path = video_path\n",
    "        self.cap = cv2.VideoCapture(video_path)\n",
    "        self.input_size = (640, 640)\n",
    "        \n",
    "    \n",
    "    def get_next(self):\n",
    "        cap = self.cap\n",
    "        ret = None\n",
    "        if cap.isOpened():\n",
    "            ret, frame = cap.read()\n",
    "            if not ret:\n",
    "                return None\n",
    "            inp = cv2.resize(frame, self.input_size)\n",
    "            inp = inp.astype(np.float32) / 255.0\n",
    "            inp = np.transpose(inp, (2, 0, 1))  # from HxWxC to CxHxW\n",
    "            inp = np.expand_dims(inp, axis=0)\n",
    "            ret = {input_name: inp}\n",
    "        return ret\n",
    "    \n",
    "data_loader = VideoDataLoader(\"../input_videos/12057881_3840_2160_24fps.mp4\")"
   ]
  },
  {
   "cell_type": "code",
   "execution_count": 3,
   "metadata": {},
   "outputs": [],
   "source": [
    "model_path = Path(\"../yolo11s.onnx\")\n",
    "quant_model_path = str(model_path.parent / model_path.stem) + \"_int8.onnx\"\n",
    "\n",
    "quantize_static(model_path, quant_model_path, data_loader, QuantType.QInt8)"
   ]
  },
  {
   "cell_type": "code",
   "execution_count": null,
   "metadata": {},
   "outputs": [],
   "source": []
  }
 ],
 "metadata": {
  "kernelspec": {
   "display_name": "dl_default",
   "language": "python",
   "name": "python3"
  },
  "language_info": {
   "codemirror_mode": {
    "name": "ipython",
    "version": 3
   },
   "file_extension": ".py",
   "mimetype": "text/x-python",
   "name": "python",
   "nbconvert_exporter": "python",
   "pygments_lexer": "ipython3",
   "version": "3.10.16"
  }
 },
 "nbformat": 4,
 "nbformat_minor": 2
}
